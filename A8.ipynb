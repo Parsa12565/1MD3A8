{
 "cells": [
  {
   "cell_type": "markdown",
   "metadata": {
    "deletable": false,
    "editable": false,
    "nbgrader": {
     "cell_type": "markdown",
     "checksum": "765e1f2f0e16683e9996146f2be1d193",
     "grade": false,
     "grade_id": "cell-8270991a73638fc0",
     "locked": true,
     "schema_version": 3,
     "solution": false
    }
   },
   "source": [
    "### Assignment 8 Assigned Mar 16, Due Mar 22 @ 11:59pm\n",
    "### Maximum grade: 25 / 20\n",
    "\n",
    "The purpose of this lab is to:\n",
    "* Error handling\n",
    "* Dabbling with HTTPS Rest Calls\n",
    "* Practice extending existing classes\n",
    "* Implement basic operators for classes such as +, -, `__getitem__` and *\n",
    "* Create your own custom classes and exceptions"
   ]
  },
  {
   "cell_type": "markdown",
   "metadata": {
    "deletable": false,
    "editable": false,
    "nbgrader": {
     "cell_type": "markdown",
     "checksum": "cdf95f4a4cbc594e49f941bef12a079b",
     "grade": false,
     "grade_id": "cell-447989ca42b4d15d",
     "locked": true,
     "schema_version": 3,
     "solution": false
    }
   },
   "source": [
    "#### Practice Question: Blackjack\n",
    "\n",
    "Write a program that draws cards from a deck, and simulates a game of blackjack.\n",
    "\n",
    "First, create a class representing a card by filling in the template below. For the value method, Jacks, Kings, and Queens are worth 10, and aces should be returned as 1--whether or not an ace is high (11) or low (1) can be decided by the program that is \"playing\" blackjack later."
   ]
  },
  {
   "cell_type": "code",
   "execution_count": 311,
   "metadata": {},
   "outputs": [],
   "source": [
    "class Card:\n",
    "    def __init__(self, suit, face):\n",
    "        self.suit=suit\n",
    "        self.face=face\n",
    "    def value(self):\n",
    "        vals={\"A\":1,\"K\":10,\"Q\":10,\"J\":10}\n",
    "        if(self.face in vals):\n",
    "            return vals[self.face]\n",
    "        return self.face"
   ]
  },
  {
   "cell_type": "code",
   "execution_count": 312,
   "metadata": {},
   "outputs": [
    {
     "data": {
      "text/plain": [
       "True"
      ]
     },
     "execution_count": 312,
     "metadata": {},
     "output_type": "execute_result"
    }
   ],
   "source": [
    "c1 = Card(\"Spades\", 3)\n",
    "c1.value() == 3"
   ]
  },
  {
   "cell_type": "code",
   "execution_count": 313,
   "metadata": {},
   "outputs": [
    {
     "data": {
      "text/plain": [
       "True"
      ]
     },
     "execution_count": 313,
     "metadata": {},
     "output_type": "execute_result"
    }
   ],
   "source": [
    "c2 = Card(\"Hearts\", \"K\")\n",
    "c2.value() == 10"
   ]
  },
  {
   "cell_type": "code",
   "execution_count": 314,
   "metadata": {},
   "outputs": [
    {
     "data": {
      "text/plain": [
       "True"
      ]
     },
     "execution_count": 314,
     "metadata": {},
     "output_type": "execute_result"
    }
   ],
   "source": [
    "c3 = Card(\"Diamonds\", \"A\")\n",
    "c3.value() == 1"
   ]
  },
  {
   "cell_type": "markdown",
   "metadata": {
    "deletable": false,
    "editable": false,
    "nbgrader": {
     "cell_type": "markdown",
     "checksum": "43ca38a722d5c6159c60ef6f849f4e6a",
     "grade": false,
     "grade_id": "cell-bbb3e20c9359dc34",
     "locked": true,
     "schema_version": 3,
     "solution": false
    }
   },
   "source": [
    "Now, create a `Deck` class that consists of 52 cards by filling in the template below. Represent the suit of cards as a string: `(\"Spades\", \"Diamonds\", \"Hearts\", \"Clubs\")` and the face of cards as a single character or integer: `[2, 3, 4, 5, 6, 7, 8, 9, 10, \"J\", \"Q\", \"K\", \"A\"]`"
   ]
  },
  {
   "cell_type": "code",
   "execution_count": 315,
   "metadata": {},
   "outputs": [],
   "source": [
    "import random\n",
    "class Deck:\n",
    "    def __init__(self):\n",
    "        suits=[\"Spades\",\"Diamonds\",\"Hearts\",\"Clubs\"]\n",
    "        faces=[2,3,4,5,6,7,8,9,10,\"J\",\"Q\",\"K\",\"A\"]\n",
    "        cards=[]\n",
    "        for s in suits:\n",
    "            for f in faces:\n",
    "                cards+=[Card(s,f)]\n",
    "        random.shuffle(cards)\n",
    "        self.cards=cards\n",
    "    def draw(self):\n",
    "        if(self.cards==[]):return None\n",
    "        c=self.cards[0]\n",
    "        self.cards=self.cards[1:len(self.cards)]\n",
    "        return c\n",
    "    def shuffle(self):\n",
    "        random.shuffle(self.cards)\n",
    "    def reshuffle(self):\n",
    "        self=Deck()\n",
    "        pass"
   ]
  },
  {
   "cell_type": "code",
   "execution_count": 316,
   "metadata": {},
   "outputs": [],
   "source": [
    "d = Deck()"
   ]
  },
  {
   "cell_type": "code",
   "execution_count": 317,
   "metadata": {},
   "outputs": [
    {
     "name": "stdout",
     "output_type": "stream",
     "text": [
      "Hearts\n",
      "2\n",
      "2\n"
     ]
    }
   ],
   "source": [
    "card = d.draw()\n",
    "print(card.suit)\n",
    "print(card.face)\n",
    "print(card.value()) # Pay attention to the brackets here. value() is a method, so we need to call it like one"
   ]
  },
  {
   "cell_type": "code",
   "execution_count": 318,
   "metadata": {},
   "outputs": [],
   "source": [
    "d.shuffle()"
   ]
  },
  {
   "cell_type": "code",
   "execution_count": 319,
   "metadata": {},
   "outputs": [
    {
     "name": "stdout",
     "output_type": "stream",
     "text": [
      "Spades\n",
      "4\n",
      "4\n"
     ]
    }
   ],
   "source": [
    "card = d.draw()\n",
    "print(card.suit)\n",
    "print(card.face)\n",
    "print(card.value()) # Pay attention to the brackets here. value() is a method, so we need to call it like one"
   ]
  },
  {
   "cell_type": "markdown",
   "metadata": {
    "deletable": false,
    "editable": false,
    "nbgrader": {
     "cell_type": "markdown",
     "checksum": "4a55c46b151138f7d962c93d3b381fd3",
     "grade": false,
     "grade_id": "cell-74ac21bef44beb1f",
     "locked": true,
     "schema_version": 3,
     "solution": false
    }
   },
   "source": [
    "The following function returns the value of a hand (as a list of `Card` objects) in blackjack:"
   ]
  },
  {
   "cell_type": "code",
   "execution_count": 320,
   "metadata": {},
   "outputs": [],
   "source": [
    "def value(hand):\n",
    "    \n",
    "    val = 0\n",
    "    num_aces = 0\n",
    "    \n",
    "    for card in hand:\n",
    "        this_val = card.value()\n",
    "        \n",
    "        if this_val != 1:\n",
    "            val += this_val\n",
    "        else:\n",
    "            num_aces += 1\n",
    "    \n",
    "    while num_aces > 0:\n",
    "        \n",
    "        if val + 11 > 21:\n",
    "            val += 1\n",
    "        else:\n",
    "            val += 11\n",
    "            \n",
    "        num_aces -= 1\n",
    "    \n",
    "    return val"
   ]
  },
  {
   "cell_type": "markdown",
   "metadata": {
    "deletable": false,
    "editable": false,
    "nbgrader": {
     "cell_type": "markdown",
     "checksum": "57349cefb69a11d4ecd16310f7d52e11",
     "grade": false,
     "grade_id": "cell-48f815e8b37ac6b7",
     "locked": true,
     "schema_version": 3,
     "solution": false
    }
   },
   "source": [
    "#### Question 1a: Extending Geometric Shapes (2 points)\n",
    "\n",
    "Add the method `area` to the classes `Line` and `Rectangle` that returns the area of the given shapes. The area of a line is always `0`."
   ]
  },
  {
   "cell_type": "code",
   "execution_count": 321,
   "metadata": {},
   "outputs": [
    {
     "name": "stdout",
     "output_type": "stream",
     "text": [
      "False\n",
      "False\n",
      "True\n"
     ]
    }
   ],
   "source": [
    "print(2.5 % 3 == 0)\n",
    "print(3.5 % 3 == 0)\n",
    "print(3.0 % 3 == 0)"
   ]
  },
  {
   "cell_type": "code",
   "execution_count": 323,
   "metadata": {
    "deletable": false,
    "nbgrader": {
     "cell_type": "code",
     "checksum": "e6c6d66886b9dd98c0358ce661ba1eca",
     "grade": false,
     "grade_id": "cell-a5f50ca21561ee40",
     "locked": false,
     "schema_version": 3,
     "solution": true
    }
   },
   "outputs": [],
   "source": [
    "class Shape:\n",
    "    def setOrigin(self, x, y):\n",
    "        self.x, self.y = x, y\n",
    "        \n",
    "    def move(self, dx, dy):\n",
    "        \"\"\"Move by dx and dy\"\"\"\n",
    "        self.x, self.y = self.x + dx, self.y + dy\n",
    "\n",
    "class Line(Shape):\n",
    "    def __init__(self, x, y, u, v):\n",
    "        \"\"\"Line with start point (x, y) and end point (u, v)\"\"\"\n",
    "        Shape.setOrigin(self, x, y)\n",
    "        self.u, self.v = u, v\n",
    "        \n",
    "    def move(self, dx, dy):\n",
    "        Shape.move(self, dx, dy)\n",
    "        self.u, self.v = self.u + dx, self.v + dy\n",
    "        \n",
    "    def area(self):\n",
    "        return 0\n",
    "    \n",
    "    def __str__(self):\n",
    "        return \"Line from (\" + str(self.x) + \", \" + str(self.y) + \\\n",
    "               \") to (\" + str(self.u) + \", \" + str(self.v) + \")\"\n",
    "\n",
    "class Rectangle(Shape):\n",
    "    def __init__(self, x, y, w, h):\n",
    "        \"\"\"Rectangle at (x, y) with width w and height h\"\"\"\n",
    "        Shape.setOrigin(self, x, y)\n",
    "        self.w, self.h = w, h\n",
    "        \n",
    "    def area(self):\n",
    "        return self.w*self.h\n",
    "        \n",
    "    def __str__(self):\n",
    "        return \"Rectangle at (\" + str(self.x) + \", \" + str(self.y) + \\\n",
    "               \"), width \" + str(self.w) + \", height \" + str(self.h)"
   ]
  },
  {
   "cell_type": "code",
   "execution_count": 324,
   "metadata": {},
   "outputs": [
    {
     "data": {
      "text/plain": [
       "True"
      ]
     },
     "execution_count": 324,
     "metadata": {},
     "output_type": "execute_result"
    }
   ],
   "source": [
    "r = Rectangle(-2, -3, 2, 3)\n",
    "l = Line(1, 2, 5, 6)\n",
    "str(r) == \"Rectangle at (-2, -3), width 2, height 3\"\n",
    "str(l) == \"Line from (1, 2) to (5, 6)\"\n",
    "l.area() == 0\n",
    "r.area() == 6"
   ]
  },
  {
   "cell_type": "code",
   "execution_count": 325,
   "metadata": {
    "deletable": false,
    "editable": false,
    "nbgrader": {
     "cell_type": "code",
     "checksum": "01e7ca39c6c02f948b66fc3f1dbf6a91",
     "grade": true,
     "grade_id": "cell-6f60efc3ada4cd3a",
     "locked": true,
     "points": 1,
     "schema_version": 3,
     "solution": false
    }
   },
   "outputs": [],
   "source": [
    "# Hidden test for 1a"
   ]
  },
  {
   "cell_type": "code",
   "execution_count": 326,
   "metadata": {
    "deletable": false,
    "editable": false,
    "nbgrader": {
     "cell_type": "code",
     "checksum": "c95f8fd3c569d6cbd2af9f0a2d653413",
     "grade": true,
     "grade_id": "cell-e5f9d3ac468b7100",
     "locked": true,
     "points": 1,
     "schema_version": 3,
     "solution": false
    }
   },
   "outputs": [],
   "source": [
    "# Hidden test for 1a"
   ]
  },
  {
   "cell_type": "markdown",
   "metadata": {
    "deletable": false,
    "editable": false,
    "nbgrader": {
     "cell_type": "markdown",
     "checksum": "5d0845fb06f73ea29106f6cb8769eb02",
     "grade": false,
     "grade_id": "cell-167808fc5b8e05b0",
     "locked": true,
     "schema_version": 3,
     "solution": false
    }
   },
   "source": [
    "#### Question 1b: Groups of Shapes (2 points)\n",
    "\n",
    "The class below represents a group of shapes. For instance, a group could be a square, a rectangle, and a triangle. Implement the `area` method for the `Group` class.\n",
    "\n",
    "The area of a group is just the total area of the shapes in the group. For the purpose of this assignment, we will not consider cases where shapes overlap, you simply need to add the areas of the shapes in a group independently."
   ]
  },
  {
   "cell_type": "code",
   "execution_count": 332,
   "metadata": {
    "deletable": false,
    "nbgrader": {
     "cell_type": "code",
     "checksum": "68371e6e99b7cc973e45e9621f27b748",
     "grade": false,
     "grade_id": "cell-d8bd6680a06909ab",
     "locked": false,
     "schema_version": 3,
     "solution": true
    }
   },
   "outputs": [],
   "source": [
    "class Group:\n",
    "    def __init__(self):\n",
    "        self.c = set()\n",
    "    def add(self, s):\n",
    "        \"\"\"Add shape s to group\"\"\"\n",
    "        self.c.add(s)\n",
    "    def move(self, dx, dy):\n",
    "        \"\"\"Move by dx and dy\"\"\"\n",
    "        for s in self.c:\n",
    "            s.move(dx, dy)\n",
    "            \n",
    "    def area(self):\n",
    "        A=0\n",
    "        for s in self.c:\n",
    "            A+=s.area()\n",
    "        return A\n",
    "    def __str__(self):\n",
    "        r = \"Group with:\"\n",
    "        for s in self.c:\n",
    "            r = r + \"\\n  \" + str(s)\n",
    "        return r"
   ]
  },
  {
   "cell_type": "markdown",
   "metadata": {
    "deletable": false,
    "editable": false,
    "nbgrader": {
     "cell_type": "markdown",
     "checksum": "a177d1e9b91280dcaa7d459cad5ff48a",
     "grade": false,
     "grade_id": "cell-09bf98b17fb64ee4",
     "locked": true,
     "schema_version": 3,
     "solution": false
    }
   },
   "source": [
    "The following cell should create a new group, and add both our line and rectangle from above to it. The output should look like:\n",
    "```\n",
    "Group with:\n",
    "  Line from (1, 2) to (5, 6)\n",
    "  Rectangle at (-2, -3), width 2, height 3\n",
    "```"
   ]
  },
  {
   "cell_type": "code",
   "execution_count": 333,
   "metadata": {},
   "outputs": [
    {
     "name": "stdout",
     "output_type": "stream",
     "text": [
      "Group with:\n",
      "  Rectangle at (-2, -3), width 2, height 3\n",
      "  Line from (1, 2) to (5, 6)\n"
     ]
    }
   ],
   "source": [
    "r = Rectangle(-2, -3, 2, 3)\n",
    "l = Line(1, 2, 5, 6)\n",
    "g1 = Group()\n",
    "g1.add(l)\n",
    "g1.add(r)\n",
    "print(g1)"
   ]
  },
  {
   "cell_type": "markdown",
   "metadata": {
    "collapsed": true,
    "deletable": false,
    "editable": false,
    "nbgrader": {
     "cell_type": "markdown",
     "checksum": "44c13f79a4da607adb9f891e20de931b",
     "grade": false,
     "grade_id": "cell-dbfea09668238eaa",
     "locked": true,
     "schema_version": 3,
     "solution": false
    }
   },
   "source": [
    "Now, if we move every element in the group up one unit and to the right one unit, the output should look like:\n",
    "```\n",
    "Group with:\n",
    "  Line from (2, 3) to (6, 7)\n",
    "  Rectangle at (-1, -2), width 2, height 3\n",
    "```"
   ]
  },
  {
   "cell_type": "code",
   "execution_count": 334,
   "metadata": {},
   "outputs": [
    {
     "name": "stdout",
     "output_type": "stream",
     "text": [
      "Group with:\n",
      "  Rectangle at (-1, -2), width 2, height 3\n",
      "  Line from (2, 3) to (6, 7)\n"
     ]
    }
   ],
   "source": [
    "g1.move(1, 1)\n",
    "print(g1)"
   ]
  },
  {
   "cell_type": "code",
   "execution_count": 335,
   "metadata": {},
   "outputs": [
    {
     "data": {
      "text/plain": [
       "True"
      ]
     },
     "execution_count": 335,
     "metadata": {},
     "output_type": "execute_result"
    }
   ],
   "source": [
    "g1.area() == 6"
   ]
  },
  {
   "cell_type": "code",
   "execution_count": 336,
   "metadata": {
    "deletable": false,
    "editable": false,
    "nbgrader": {
     "cell_type": "code",
     "checksum": "8e953adfd38e76c03b943145d1bb95f7",
     "grade": true,
     "grade_id": "cell-8d57d815985b12c1",
     "locked": true,
     "points": 1,
     "schema_version": 3,
     "solution": false
    }
   },
   "outputs": [],
   "source": [
    "# Hidden test for 1b"
   ]
  },
  {
   "cell_type": "code",
   "execution_count": 337,
   "metadata": {
    "deletable": false,
    "editable": false,
    "nbgrader": {
     "cell_type": "code",
     "checksum": "bee335a99667e6ba36c8dbaed90e9c03",
     "grade": true,
     "grade_id": "cell-6b7a02039a4e74df",
     "locked": true,
     "points": 1,
     "schema_version": 3,
     "solution": false
    }
   },
   "outputs": [],
   "source": [
    "# Hidden test for 1b"
   ]
  },
  {
   "cell_type": "markdown",
   "metadata": {
    "deletable": false,
    "editable": false,
    "nbgrader": {
     "cell_type": "markdown",
     "checksum": "6003a900a939ee3b0afbdf45b68afbc5",
     "grade": false,
     "grade_id": "cell-e8c3b20eca9a5ce1",
     "locked": true,
     "schema_version": 3,
     "solution": false
    }
   },
   "source": [
    "#### Question 1c: Creating New Shapes (4 points)\n",
    "\n",
    "Create two new shapes: `Circle` and `Polygon`.\n",
    "\n",
    "Classes `Circle` and `Polygon` should inherit from `Shape`. For circles, at creation the radius has to be specified and the `__str__` method should return a string in the same style as for `Line` and `Rectangle`. The are of circles should be computed in the usual way. For this, import `pi` from `math`.  The area of a non-self-intersecting polygon with $n$ vertices is defined as\n",
    "\n",
    "> $A = {1 \\over 2} \\sum_{i=0}^{n-1}(x_i y_{i+1}-x_{i+1} y_i)$\n",
    "\n",
    "where each $x_i$, $y_i$ represents a vertex (“corner”) of a polygon and where $x_n = x_0$ and $y_n = y_0$. Note that the area of a convex polygon is positive if the points are in counterclockwise order and negative if they are in clockwise order. (The Wikipedia page takes the absolute value to avoid negative areas. Don’t do this here.)"
   ]
  },
  {
   "cell_type": "code",
   "execution_count": 338,
   "metadata": {
    "deletable": false,
    "nbgrader": {
     "cell_type": "code",
     "checksum": "f9359860f76365bff8eeda04caaf9fb3",
     "grade": false,
     "grade_id": "cell-9aba98829f8fe16b",
     "locked": false,
     "schema_version": 3,
     "solution": true
    }
   },
   "outputs": [],
   "source": [
    "import math\n",
    "\n",
    "class Circle(Shape):\n",
    "    def __init__(self,x,y,r):\n",
    "        Shape.setOrigin(self,x,y)\n",
    "        self.r=r\n",
    "    def area(self):\n",
    "        return math.pi*(self.r)**2\n",
    "    def __str__(self):\n",
    "        return \"Circle at (\"+str(self.x)+\", \"+str(self.y)+\"), radius \"+str(self.r)\n",
    "class Polygon(Shape):\n",
    "    def __init__(self,points):\n",
    "        self.points=points\n",
    "    def area(self):\n",
    "        A=0\n",
    "        for i in range(len(self.points)-1):\n",
    "            A+=self.points[i][0]*self.points[i+1][1]-self.points[i+1][0]*self.points[i][1]\n",
    "        return A/2\n",
    "    def __str__(self):\n",
    "        return \"Polygon with \"+str(self.points)"
   ]
  },
  {
   "cell_type": "code",
   "execution_count": 339,
   "metadata": {},
   "outputs": [],
   "source": [
    "g2 = Group()\n",
    "\n",
    "p = Polygon([(0, 0), (4, 0), (2, 2), (4, 4), (0, 4), (2, 2)])\n",
    "g2.add(p)\n",
    "\n",
    "c = Circle(1, -5, 1)\n",
    "g2.add(c)"
   ]
  },
  {
   "cell_type": "code",
   "execution_count": 340,
   "metadata": {},
   "outputs": [
    {
     "data": {
      "text/plain": [
       "True"
      ]
     },
     "execution_count": 340,
     "metadata": {},
     "output_type": "execute_result"
    }
   ],
   "source": [
    "str(c) == \"Circle at (1, -5), radius 1\"\n",
    "str(p) == \"Polygon with [(0, 0), (4, 0), (2, 2), (4, 4), (0, 4), (2, 2)]\"\n",
    "c.area() == 3.141592653589793\n",
    "p.area() == 8.0\n",
    "round(g2.area(), 3) == 11.142"
   ]
  },
  {
   "cell_type": "code",
   "execution_count": 341,
   "metadata": {
    "deletable": false,
    "editable": false,
    "nbgrader": {
     "cell_type": "code",
     "checksum": "a855ac41c061cf9f8b6d25f2b6a2ebfd",
     "grade": true,
     "grade_id": "cell-8eb29d4032a54dc9",
     "locked": true,
     "points": 1,
     "schema_version": 3,
     "solution": false
    }
   },
   "outputs": [],
   "source": [
    "# Hidden test for 1c"
   ]
  },
  {
   "cell_type": "code",
   "execution_count": 342,
   "metadata": {
    "deletable": false,
    "editable": false,
    "nbgrader": {
     "cell_type": "code",
     "checksum": "6ade569e8f72d406b78d058a6cb94bc0",
     "grade": true,
     "grade_id": "cell-6c05305a2740ebc5",
     "locked": true,
     "points": 1,
     "schema_version": 3,
     "solution": false
    }
   },
   "outputs": [],
   "source": [
    "# Hidden test for 1c"
   ]
  },
  {
   "cell_type": "code",
   "execution_count": 343,
   "metadata": {
    "deletable": false,
    "editable": false,
    "nbgrader": {
     "cell_type": "code",
     "checksum": "811149d76d043ccf25f9cddf876b8d4c",
     "grade": true,
     "grade_id": "cell-ba7f2b5975797431",
     "locked": true,
     "points": 1,
     "schema_version": 3,
     "solution": false
    }
   },
   "outputs": [],
   "source": [
    "# Hidden test for 1c"
   ]
  },
  {
   "cell_type": "code",
   "execution_count": 344,
   "metadata": {
    "deletable": false,
    "editable": false,
    "nbgrader": {
     "cell_type": "code",
     "checksum": "cdf596fcd08ee4c239a4363398fc1464",
     "grade": true,
     "grade_id": "cell-7ab5c37b49545f0b",
     "locked": true,
     "points": 1,
     "schema_version": 3,
     "solution": false
    }
   },
   "outputs": [],
   "source": [
    "# Hidden test for 1c"
   ]
  },
  {
   "cell_type": "markdown",
   "metadata": {
    "deletable": false,
    "editable": false,
    "nbgrader": {
     "cell_type": "markdown",
     "checksum": "d6a6ce81b12abdc7f0e4856b6b3375d6",
     "grade": false,
     "grade_id": "cell-29daefae924637a8",
     "locked": true,
     "schema_version": 3,
     "solution": false
    }
   },
   "source": [
    "#### Question 2: Defining Vectors (7 points)\n",
    "Define class `Vector` for n-dimensional vectors as follows:\n",
    "- `Vector(l)`: Creates a new vector with dimension `len(l)` from list `l` of numbers; raises `TypeError` if `l` is not a list or not all of its elements are of type `int` or `float`.\n",
    "- `v.dim()`: Returns the dimension (length) of the vector.\n",
    "- `v. __getitem__(i)`: Returns the `i`-th component of the vector, **where components are indexed starting from `1`**; raises `IndexError` if `i` is less than `1` or greater than the dimension of the vector.\n",
    "- `v. __setitem__(i, x)`: Sets the `i`-th component of vector `v` to `x`, where components are indexed starting from `1`; raises `IndexError` if `i` is less than `1` or greater than the dimension of the vector.\n",
    "- `v.__str__()`: Returns a string with a readable representation of the vector, see the example below.\n",
    "- `v. __add__(other)`: Returns a new vector that is the component-wise sum of `v` and other; raises `ValueError` if `other` is not of type `Vector` or if `other` is of a different dimension.\n",
    "- `v.__mul__(other)`: If `other` is of type `int` or `float`, returns a new vector resulting from the scalar multiplication of `v` with `other`, , i.e. with each component of `v` multiplied by scalar. If `other` is of type `Vector`, returns the dot product of `v` and `other`, which is the sum of the products of the corresponding components; raises `ValueError` if `other` is of different dimension in this case. If the type of `other` is none of `Vector`, `int`, `float`, raises `AssertionError`.  \n",
    "- `v.__rmul__(other)`: Defined exactly like `v.__mul__(other)`\n",
    "\n",
    "Python uses following equivalent notations:\n",
    "\n",
    "    v[i]       =  v.__getitem__(i)\n",
    "    v[i] = x   =  v.__setitem__(i, x)\n",
    "    str(v)     =  v.__str__()\n",
    "    v + other  =  v.__add__(other)\n",
    "    v * other  =  v.__mul__(other)\n",
    "    other * v  =  v.__rmul__(other)   if other.__mul__(v) is not defined "
   ]
  },
  {
   "cell_type": "code",
   "execution_count": 345,
   "metadata": {
    "deletable": false,
    "nbgrader": {
     "cell_type": "code",
     "checksum": "385581863a03a7c3af4267b831fbf522",
     "grade": false,
     "grade_id": "cell-e2595c6e1f70d0d7",
     "locked": false,
     "schema_version": 3,
     "solution": true
    }
   },
   "outputs": [],
   "source": [
    "class Vector():\n",
    "    def __init__(self,l):\n",
    "        for i in l:\n",
    "            if(type(i)!=int and type(i)!=float):\n",
    "                raise TypeError\n",
    "        self.c=l\n",
    "    def dim(self):\n",
    "        return len(self.c)\n",
    "    def __getitem__(self,i):\n",
    "        if(i<1 or i>self.dim()):\n",
    "            raise IndexError\n",
    "        return self.c[i-1]\n",
    "    def __setitem__(self,i,x):\n",
    "        if(i<1 or i>self.dim()):\n",
    "            raise IndexError\n",
    "        self.c[i-1]=x\n",
    "    def __str__(self):\n",
    "        return \"Vector: \"+str(self.c)\n",
    "    def __add__(self,other):\n",
    "        if(type(other)!=Vector or other.dim()!=self.dim()):\n",
    "            raise ValueError\n",
    "        l=[]\n",
    "        for i in range(self.dim()):\n",
    "            l+=[self.c[i]+other.c[i]]\n",
    "        return Vector(l)\n",
    "    def __mul__(self,other):\n",
    "        if(type(other)==int or type(other)==float):\n",
    "            l=[]\n",
    "            for i in range(self.dim()):\n",
    "                l+=[self.c[i]*other]\n",
    "            return Vector(l)\n",
    "        elif(type(other)==Vector):\n",
    "            if(other.dim()!=self.dim()):\n",
    "                raise ValueError\n",
    "            p=0\n",
    "            for i in range(self.dim()):\n",
    "                p+=self.c[i]*other.c[i]\n",
    "            return p\n",
    "        else:\n",
    "            raise AssertionError\n",
    "    def __rmul__(self,other):\n",
    "        return self.__mul__(other)"
   ]
  },
  {
   "cell_type": "markdown",
   "metadata": {
    "deletable": false,
    "editable": false,
    "nbgrader": {
     "cell_type": "markdown",
     "checksum": "538c126ed38b2f9b1108057f6916570c",
     "grade": false,
     "grade_id": "cell-509538adb24982bc",
     "locked": true,
     "schema_version": 3,
     "solution": false
    }
   },
   "source": [
    "For example:"
   ]
  },
  {
   "cell_type": "code",
   "execution_count": 346,
   "metadata": {},
   "outputs": [
    {
     "data": {
      "text/plain": [
       "True"
      ]
     },
     "execution_count": 346,
     "metadata": {},
     "output_type": "execute_result"
    }
   ],
   "source": [
    "v1 = Vector([2, 3, 4])\n",
    "v1[1] == 2\n",
    "v1.dim() == 3"
   ]
  },
  {
   "cell_type": "code",
   "execution_count": 347,
   "metadata": {},
   "outputs": [
    {
     "data": {
      "text/plain": [
       "True"
      ]
     },
     "execution_count": 347,
     "metadata": {},
     "output_type": "execute_result"
    }
   ],
   "source": [
    "v2 = Vector([1, 2, 2])\n",
    "v2[3] = 3\n",
    "str(v2) == 'Vector: [1, 2, 3]'\n",
    "str(v1 + v2) == 'Vector: [3, 5, 7]'\n",
    "str(v2 * 2) == 'Vector: [2, 4, 6]'\n",
    "str(2 * (v1 + v2)) == 'Vector: [6, 10, 14]'"
   ]
  },
  {
   "cell_type": "markdown",
   "metadata": {
    "deletable": false,
    "editable": false,
    "nbgrader": {
     "cell_type": "markdown",
     "checksum": "0a8af717679245980b1197d56c279bfc",
     "grade": false,
     "grade_id": "cell-72398c1925f0810d",
     "locked": true,
     "schema_version": 3,
     "solution": false
    }
   },
   "source": [
    "Following raise exceptions:\n",
    "(remember, these are supposed to be *mathematical* vectors so we are starting indexing from 1, not 0."
   ]
  },
  {
   "cell_type": "code",
   "execution_count": 348,
   "metadata": {},
   "outputs": [
    {
     "name": "stdout",
     "output_type": "stream",
     "text": [
      "Successful test case.\n"
     ]
    }
   ],
   "source": [
    "try:\n",
    "    v1[0] # raises IndexError\n",
    "except IndexError:\n",
    "    print(\"Successful test case.\")"
   ]
  },
  {
   "cell_type": "code",
   "execution_count": 349,
   "metadata": {},
   "outputs": [
    {
     "name": "stdout",
     "output_type": "stream",
     "text": [
      "Successful test case.\n"
     ]
    }
   ],
   "source": [
    "try:\n",
    "    v2 + [9] # raises ValueError\n",
    "except ValueError:\n",
    "    print(\"Successful test case.\")"
   ]
  },
  {
   "cell_type": "code",
   "execution_count": 350,
   "metadata": {},
   "outputs": [
    {
     "name": "stdout",
     "output_type": "stream",
     "text": [
      "Successful test case.\n"
     ]
    }
   ],
   "source": [
    "try:\n",
    "    v3 = Vector([1, 'cat', 3]) # Raises TypeError\n",
    "except TypeError:\n",
    "    print(\"Successful test case.\")"
   ]
  },
  {
   "cell_type": "code",
   "execution_count": 351,
   "metadata": {
    "deletable": false,
    "editable": false,
    "nbgrader": {
     "cell_type": "code",
     "checksum": "f6b53e4c1b2fd505f30699ba41f9cfe0",
     "grade": true,
     "grade_id": "cell-e98b86536ff53624",
     "locked": true,
     "points": 1,
     "schema_version": 3,
     "solution": false
    }
   },
   "outputs": [],
   "source": [
    "# Hidden test for Vector"
   ]
  },
  {
   "cell_type": "code",
   "execution_count": 352,
   "metadata": {
    "deletable": false,
    "editable": false,
    "nbgrader": {
     "cell_type": "code",
     "checksum": "4c682a532276857cb71c692118a76e7d",
     "grade": true,
     "grade_id": "cell-a7272504f3a9ac24",
     "locked": true,
     "points": 1,
     "schema_version": 3,
     "solution": false
    }
   },
   "outputs": [],
   "source": [
    "# Hidden test for Vector"
   ]
  },
  {
   "cell_type": "code",
   "execution_count": 353,
   "metadata": {
    "deletable": false,
    "editable": false,
    "nbgrader": {
     "cell_type": "code",
     "checksum": "7364610b662f9b33859c0e58c957e83a",
     "grade": true,
     "grade_id": "cell-547277d9f0f5b33d",
     "locked": true,
     "points": 1,
     "schema_version": 3,
     "solution": false
    }
   },
   "outputs": [],
   "source": [
    "# Hidden test for Vector"
   ]
  },
  {
   "cell_type": "code",
   "execution_count": 354,
   "metadata": {
    "deletable": false,
    "editable": false,
    "nbgrader": {
     "cell_type": "code",
     "checksum": "469e26e87977a08baa25492865d5610b",
     "grade": true,
     "grade_id": "cell-67da8a068242283d",
     "locked": true,
     "points": 1,
     "schema_version": 3,
     "solution": false
    }
   },
   "outputs": [],
   "source": [
    "# Hidden test for Vector"
   ]
  },
  {
   "cell_type": "code",
   "execution_count": 355,
   "metadata": {
    "deletable": false,
    "editable": false,
    "nbgrader": {
     "cell_type": "code",
     "checksum": "35b82508fafc7a3021f9a978666c0166",
     "grade": true,
     "grade_id": "cell-b87295c960c2aee7",
     "locked": true,
     "points": 1,
     "schema_version": 3,
     "solution": false
    }
   },
   "outputs": [],
   "source": [
    "# Hidden test for Vector"
   ]
  },
  {
   "cell_type": "code",
   "execution_count": 356,
   "metadata": {
    "deletable": false,
    "editable": false,
    "nbgrader": {
     "cell_type": "code",
     "checksum": "1582a30ce24c16b5ddf4f2c2f5848843",
     "grade": true,
     "grade_id": "cell-460fbcafc8b42236",
     "locked": true,
     "points": 1,
     "schema_version": 3,
     "solution": false
    }
   },
   "outputs": [],
   "source": [
    "# Hidden test for Vector"
   ]
  },
  {
   "cell_type": "code",
   "execution_count": 357,
   "metadata": {
    "deletable": false,
    "editable": false,
    "nbgrader": {
     "cell_type": "code",
     "checksum": "1a1b6a77ed602a3241204aa5a7abc65d",
     "grade": true,
     "grade_id": "cell-7ae3af0dc7dcc80e",
     "locked": true,
     "points": 1,
     "schema_version": 3,
     "solution": false
    }
   },
   "outputs": [],
   "source": [
    "# Hidden test for Vector"
   ]
  },
  {
   "cell_type": "markdown",
   "metadata": {},
   "source": [
    "### Question # 3: Never Tell Me the Odds (5 marks)\n",
    "\n",
    "#### *Intro Lesson:*\n",
    "\n",
    "*You should all be adequately familiar with doing File I/O in Python. The problem with files is that they take up space in your computer disk drives (naturally). For mobile phones and embedded IOT systems, this can be a problem as there are relatively strict hardware limitations when compared to a laptop or desktop computer.*\n",
    "\n",
    "*The answer to the above is using 'RESTFUL' API calls. RESTful' is an architecture which standardizes requests/commands to be made over the i-n-t-e-r-n-e-t, essentially like a lock and key. It is the foundation of which the majority of web sites and web applications are built upon.*\n",
    "\n",
    "*You will have to do some self-reading but the main idea is that you will need to use the `requests` python library. You will call the `get` method and if the rest call was successful you will read the `text` string property on the Request object. If a request is not successful (which frequently occurs due to a number of reasons i.e. no internet access, incorrect url, server is busy), the `status_code` property will be something else besides the int number 200 (200 means successful restful call).*\n",
    "\n",
    "#### Task:\n",
    "\n",
    "Let's suppose we have a weekly schedule mobile app built on python and similar to google calendar or outlook calendar.  The phone notifies us during the week with our scheduled activity. Using a `.csv` file, it stores the day of the week (1-7), the hour of the day (24-hour), the duration of the activity (0-5), and the name of the appointment(string). Originally, every day of the week had exactly the same schedule.  However, we made a grave mistake, and lent our phone to our mischevious little brother Han. He edited 3 data cells in the csv file. \n",
    "\n",
    "Luckily for us, the app does not allow editing the values of \"Day of Week\", therefore abnormalities reside only in the columns \"Hour of Day\", \"Duration\", and \"Appointment\".\n",
    "\n",
    "Since Han is a half-witted scruffy-looking-nerfherder, it is only a matter time until he will empirically strike back with another 3 distinct edits. Therefore, we need to write a program `spotErrors` which will quickly distinguish the 3 appointments records with the error in one of its columns.\n",
    "\n",
    "Remember this is a mobile app, so our function will need to make a RESTFUL API call to the url where the file is located and work with the data received. Do not assume your schedule will stay the same! We can always add and remove appointments in our schedule.\n",
    "\n",
    "#### Requirements:\n",
    "\n",
    "1. `spotErrors` should take a string argument `urlPath` and return a list of tuples. Each tuple corresponds to an appointment, an individual row in the csv file. \n",
    "\n",
    "2. In the event that the API rest call should not work, then a `Spotty` error should be thrown."
   ]
  },
  {
   "cell_type": "code",
   "execution_count": 361,
   "metadata": {
    "deletable": false,
    "nbgrader": {
     "cell_type": "code",
     "checksum": "e092dfac77cf558a8876cd2a18131fd9",
     "grade": false,
     "grade_id": "cell-35efe4d7f3419e0b",
     "locked": false,
     "schema_version": 3,
     "solution": true,
     "task": false
    }
   },
   "outputs": [],
   "source": [
    "import requests\n",
    "import csv\n",
    "\n",
    "def spotErrors(urlPath):\n",
    "    res=requests.get(urlPath)\n",
    "    s=csv.reader(res.text.split(\"\\n\"))\n",
    "    l=[]\n",
    "    for i in s:\n",
    "        l+=[i]\n",
    "    l=l[1:len(l)-1]\n",
    "    x=[[],[],[],[],[],[],[]]\n",
    "    for i in l:\n",
    "        x[int(i[0])-1]+=[i[1:]]\n",
    "    er=[]\n",
    "    for i in range(7):\n",
    "        for j in range(len(x[0])):\n",
    "            for k in range(3):\n",
    "                if(x[i][j][k]!=statistics.mode([x[0][j][k],x[1][j][k],x[2][j][k],x[3][j][k],x[4][j][k],x[5][j][k],x[6][j][k],])):\n",
    "                    er+=[(str(i+1),x[i][j][0],x[i][j][1],x[i][j][2])]\n",
    "    return er"
   ]
  },
  {
   "cell_type": "code",
   "execution_count": 362,
   "metadata": {},
   "outputs": [
    {
     "name": "stdout",
     "output_type": "stream",
     "text": [
      "[('1', '14', '2', 'English Class'), ('3', '20', '2', 'Homework'), ('6', '9', '2', 'Music Class')]\n",
      "Test case 1:  True\n",
      "Test case 2:  True\n",
      "Test case 3:  True\n"
     ]
    }
   ],
   "source": [
    "# Youe Test Case\n",
    "urlPath = \"https://files.jazzmoon.ca/WeeklySchedule.csv\"\n",
    "listOfErrors = spotErrors(urlPath)\n",
    "error1 = ('1','14','2',\"English Class\") # Expected (1,13,2,\"English Class\")\n",
    "error2 = ('3','20','2',\"Homework\") # Expected (3,20,3,\"Homework\")\n",
    "error3 = ('6','9','2',\"Music Class\") # Expected (6,9,2,\"Math Class\")\n",
    "print(listOfErrors)\n",
    "print(\"Test case 1: \", error1 in listOfErrors)\n",
    "print(\"Test case 2: \", error2 in listOfErrors)\n",
    "print(\"Test case 3: \", error3 in listOfErrors)"
   ]
  },
  {
   "cell_type": "code",
   "execution_count": 363,
   "metadata": {
    "deletable": false,
    "editable": false,
    "nbgrader": {
     "cell_type": "code",
     "checksum": "d849eed3ce50bd81bff8029b321969e7",
     "grade": true,
     "grade_id": "cell-767e4746ccbf1812",
     "locked": true,
     "points": 1,
     "schema_version": 3,
     "solution": false,
     "task": false
    }
   },
   "outputs": [],
   "source": [
    "# Hidden test"
   ]
  },
  {
   "cell_type": "code",
   "execution_count": 364,
   "metadata": {
    "deletable": false,
    "editable": false,
    "nbgrader": {
     "cell_type": "code",
     "checksum": "10a72ff6a6bdfcbffe66b7310e9b9788",
     "grade": true,
     "grade_id": "cell-1638c14266dda022",
     "locked": true,
     "points": 1,
     "schema_version": 3,
     "solution": false,
     "task": false
    }
   },
   "outputs": [],
   "source": [
    "# Hidden test"
   ]
  },
  {
   "cell_type": "code",
   "execution_count": 365,
   "metadata": {
    "deletable": false,
    "editable": false,
    "nbgrader": {
     "cell_type": "code",
     "checksum": "7f2e400576ea0ac36b33d7dd8ac0eb9b",
     "grade": true,
     "grade_id": "cell-08428be01f3e2f68",
     "locked": true,
     "points": 1,
     "schema_version": 3,
     "solution": false,
     "task": false
    }
   },
   "outputs": [],
   "source": [
    "# Hidden test"
   ]
  },
  {
   "cell_type": "code",
   "execution_count": 366,
   "metadata": {
    "deletable": false,
    "editable": false,
    "nbgrader": {
     "cell_type": "code",
     "checksum": "a2100f6e7b71adc8dbb7b0a1df6434bb",
     "grade": true,
     "grade_id": "cell-027eef40877ed9e7",
     "locked": true,
     "points": 1,
     "schema_version": 3,
     "solution": false,
     "task": false
    }
   },
   "outputs": [],
   "source": [
    "# Hidden test"
   ]
  },
  {
   "cell_type": "code",
   "execution_count": 367,
   "metadata": {
    "deletable": false,
    "editable": false,
    "nbgrader": {
     "cell_type": "code",
     "checksum": "80cd28e4b8b45d243d0cc7460cfe4867",
     "grade": true,
     "grade_id": "cell-3c0a1dfe3bb90e21",
     "locked": true,
     "points": 1,
     "schema_version": 3,
     "solution": false,
     "task": false
    }
   },
   "outputs": [],
   "source": [
    "#Hidden test"
   ]
  },
  {
   "cell_type": "markdown",
   "metadata": {
    "deletable": false,
    "editable": false,
    "nbgrader": {
     "cell_type": "markdown",
     "checksum": "2bc748cc9972266d92971b3453ae40f3",
     "grade": false,
     "grade_id": "cell-e01be38afbde0045",
     "locked": true,
     "schema_version": 3,
     "solution": false
    }
   },
   "source": [
    "#### Bonus Question:  Robust Change Machine (5 points)\n",
    "Complete following function according to the specification in the documentation string. You will need to create your own custom exceptions for these functions."
   ]
  },
  {
   "cell_type": "code",
   "execution_count": null,
   "metadata": {
    "deletable": false,
    "nbgrader": {
     "cell_type": "code",
     "checksum": "96437dec450b17564ee464ab261136f0",
     "grade": false,
     "grade_id": "cell-3831d37862b52a19",
     "locked": false,
     "schema_version": 3,
     "solution": true
    }
   },
   "outputs": [],
   "source": [
    "# Write your answers here. Define ChangeParameterError and ChangeRemainderError in this code cell as well.\n",
    "\n",
    "def change1(a, d):\n",
    "    \"\"\"\n",
    "    Computes the change of amount a given denominations d. \n",
    "    Parameter 'a' must be of type int, 'd' must be of type list of int, and the\n",
    "    elements of d must be in ascending order, otherwise ChangeParameterError is raised. \n",
    "    The result is a dictionary with keys from d, mapping to values of \n",
    "    the number of coins / bills of each denomination. \n",
    "    \n",
    "    This is computed by first taking the maximal  number of coins / bill of the \n",
    "    highest denomination, then the next highest, etc.\n",
    "    If no exact change is possible, ChangeRemainderError is raised.\n",
    "    \"\"\"\n",
    "    return    \n",
    "    \n",
    "# YOUR CODE HERE\n",
    "raise NotImplementedError()"
   ]
  },
  {
   "cell_type": "code",
   "execution_count": null,
   "metadata": {},
   "outputs": [],
   "source": [
    "change(3, [3, 7]) ==  {3: 1, 7: 0}"
   ]
  },
  {
   "cell_type": "code",
   "execution_count": null,
   "metadata": {},
   "outputs": [],
   "source": [
    "change(15, [1, 3, 7]) == {1: 1, 3: 0, 7: 2}"
   ]
  },
  {
   "cell_type": "code",
   "execution_count": null,
   "metadata": {},
   "outputs": [],
   "source": [
    "try:\n",
    "    change(True, [4]) # raises ChangeParameterError\n",
    "except ChangeParameterError:\n",
    "    print(\"Successful test case\")"
   ]
  },
  {
   "cell_type": "code",
   "execution_count": null,
   "metadata": {},
   "outputs": [],
   "source": [
    "try:\n",
    "    change(3, 7) # raises ChangeParameterError\n",
    "except ChangeParameterError:\n",
    "    print(\"Successful test case\")"
   ]
  },
  {
   "cell_type": "code",
   "execution_count": null,
   "metadata": {},
   "outputs": [],
   "source": [
    "try:\n",
    "    change(3, [7, True]) # raises ChangeParameterError\n",
    "except ChangeParameterError:\n",
    "    print(\"Successful test case\")"
   ]
  },
  {
   "cell_type": "code",
   "execution_count": null,
   "metadata": {},
   "outputs": [],
   "source": [
    "try:\n",
    "    change(3, [7, 3]) # raises ChangeParameterError\n",
    "except ChangeParameterError:\n",
    "    print(\"Successful test case\")"
   ]
  },
  {
   "cell_type": "code",
   "execution_count": null,
   "metadata": {},
   "outputs": [],
   "source": [
    "try:\n",
    "    change(3, [2, 7]) # raises ChangeRemainderError\n",
    "except ChangeRemainderError:\n",
    "    print(\"Successful test case\")"
   ]
  },
  {
   "cell_type": "code",
   "execution_count": null,
   "metadata": {
    "deletable": false,
    "editable": false,
    "nbgrader": {
     "cell_type": "code",
     "checksum": "916c88e841d78536a0d262a377b6b842",
     "grade": true,
     "grade_id": "cell-16ccf86c7354d6ab",
     "locked": true,
     "points": 1,
     "schema_version": 3,
     "solution": false
    }
   },
   "outputs": [],
   "source": [
    "# Hidden test for Question 3"
   ]
  },
  {
   "cell_type": "code",
   "execution_count": null,
   "metadata": {
    "deletable": false,
    "editable": false,
    "nbgrader": {
     "cell_type": "code",
     "checksum": "fbb2b31d5f1f3e13094ce99b500bc488",
     "grade": true,
     "grade_id": "cell-f7cd91f11e24e067",
     "locked": true,
     "points": 1,
     "schema_version": 3,
     "solution": false
    }
   },
   "outputs": [],
   "source": [
    "# Hidden test for Question 3"
   ]
  },
  {
   "cell_type": "code",
   "execution_count": null,
   "metadata": {
    "deletable": false,
    "editable": false,
    "nbgrader": {
     "cell_type": "code",
     "checksum": "993b8e27facbbbde72fee5c8bd39ee8a",
     "grade": true,
     "grade_id": "cell-b4e9cde2bec380e9",
     "locked": true,
     "points": 1,
     "schema_version": 3,
     "solution": false
    }
   },
   "outputs": [],
   "source": [
    "# Hidden test for Question 3"
   ]
  },
  {
   "cell_type": "code",
   "execution_count": null,
   "metadata": {
    "deletable": false,
    "editable": false,
    "nbgrader": {
     "cell_type": "code",
     "checksum": "78fde260f183997aeb309d0d0eafc15e",
     "grade": true,
     "grade_id": "cell-e1490314fa409f6e",
     "locked": true,
     "points": 1,
     "schema_version": 3,
     "solution": false
    }
   },
   "outputs": [],
   "source": [
    "# Hidden test for Question 3"
   ]
  },
  {
   "cell_type": "code",
   "execution_count": null,
   "metadata": {
    "deletable": false,
    "editable": false,
    "nbgrader": {
     "cell_type": "code",
     "checksum": "efc8fc65b484e077f36cb74b20246964",
     "grade": true,
     "grade_id": "cell-65653f27801c6400",
     "locked": true,
     "points": 1,
     "schema_version": 3,
     "solution": false
    }
   },
   "outputs": [],
   "source": [
    "# Hidden test for Question 3"
   ]
  }
 ],
 "metadata": {
  "kernelspec": {
   "display_name": "Python 3",
   "language": "python",
   "name": "python3"
  },
  "language_info": {
   "codemirror_mode": {
    "name": "ipython",
    "version": 3
   },
   "file_extension": ".py",
   "mimetype": "text/x-python",
   "name": "python",
   "nbconvert_exporter": "python",
   "pygments_lexer": "ipython3",
   "version": "3.8.5"
  }
 },
 "nbformat": 4,
 "nbformat_minor": 2
}
